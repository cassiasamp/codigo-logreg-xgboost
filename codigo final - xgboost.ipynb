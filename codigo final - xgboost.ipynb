{
 "cells": [
  {
   "cell_type": "markdown",
   "metadata": {},
   "source": [
    "# 1) Preparação e leitura dos dados"
   ]
  },
  {
   "cell_type": "code",
   "execution_count": null,
   "metadata": {},
   "outputs": [],
   "source": [
    "import numpy as np\n",
    "import pandas as pd\n",
    "from sklearn.preprocessing import StandardScaler\n",
    "\n",
    "#importando os datasets:\n",
    "# teste\n",
    "dftest = pd.read_csv('./datafinalteste.csv')\n",
    "xtes = dftest.iloc[:,3:54]\n",
    "y_test = dftest.iloc[:, 55]\n",
    "# Padronização das caracteristicas de x. \n",
    "ss = StandardScaler()\n",
    "x_test = pd.DataFrame(ss.fit_transform(xtes), columns=xtes.columns)\n",
    "\n",
    "#Tratar os dados da coluna label\n",
    "#y_test=pd.get_dummies (ytes, drop_first=False)\n",
    "#y_test\n",
    "\n"
   ]
  },
  {
   "cell_type": "code",
   "execution_count": null,
   "metadata": {},
   "outputs": [],
   "source": [
    "# treino\n",
    "dftrain = pd.read_csv('./datafinaltreino.csv')\n",
    "xtre = dftrain.iloc[:,3:54]\n",
    "y_train = dftrain.iloc[:, 55]\n",
    "\n",
    "# Padronização das caracteristicas de x. \n",
    "ss = StandardScaler()\n",
    "x_train = pd.DataFrame(ss.fit_transform(xtre), columns=xtre.columns)\n",
    "\n",
    "#Tratar os dados da coluna label\n",
    "#y_train=pd.get_dummies (ytre, drop_first=False)\n",
    "#y_train\n"
   ]
  },
  {
   "cell_type": "code",
   "execution_count": null,
   "metadata": {},
   "outputs": [],
   "source": [
    "# validação\n",
    "dfvalidate = pd.read_csv('./datafinalvalida.csv')\n",
    "xval = dfvalidate.iloc[:,3:54]\n",
    "y_val = dfvalidate.iloc[:, 55]\n",
    "\n",
    "# Padronização das caracteristicas de x. \n",
    "ss = StandardScaler()\n",
    "x_val = pd.DataFrame(ss.fit_transform(xval), columns=xval.columns)\n",
    "\n",
    "#Tratar os dados da coluna label\n",
    "#y_validation=pd.get_dummies (yval, drop_first=False)\n",
    "#y_val"
   ]
  },
  {
   "cell_type": "markdown",
   "metadata": {},
   "source": [
    "# 2) Método com XGBoost - (utilizando bases de treino e teste)"
   ]
  },
  {
   "cell_type": "code",
   "execution_count": null,
   "metadata": {},
   "outputs": [],
   "source": [
    "from sklearn import metrics\n",
    "from sklearn.metrics import accuracy_score\n",
    "from sklearn.metrics import classification_report\n",
    "#from sklearn.model_selection import train_test_split\n",
    "\n",
    "# Dividindo data set em treinamento e teste (random_state = seed):\n",
    "#x_train, x_test, y_train, y_test = train_test_split(X, Y, test_size = 0.2, random_state = 30)\n",
    "\n",
    "# Configurando o xgboost na base de treino\n",
    "import xgboost\n",
    "xgboost = xgboost.XGBClassifier()\n",
    "xgboost.fit(x_train, y_train)\n",
    "\n",
    "# Configurando a predição base de teste\n",
    "y_pred = xgboost.predict(x_test)\n",
    "\n",
    "# Resultado 1\n",
    "print(metrics.accuracy_score(y_test,y_pred))\n",
    "\n",
    "# Resultado 2 \n",
    "print (metrics.classification_report(y_test,y_pred))\n"
   ]
  },
  {
   "cell_type": "markdown",
   "metadata": {},
   "source": [
    "# 3) Método com XGBoost e GridSearch - (utilizando bases de treino e teste)"
   ]
  },
  {
   "cell_type": "code",
   "execution_count": null,
   "metadata": {},
   "outputs": [],
   "source": [
    "import xgboost\n",
    "from sklearn.model_selection import GridSearchCV\n",
    "\n",
    "xgboost = xgboost.XGBClassifier()\n",
    "\n",
    "parameters = {'nthread':[4], \n",
    "              'objective':['binary:logistic'],\n",
    "              'learning_rate': [0.05], \n",
    "              'max_depth': [6],\n",
    "              'min_child_weight': [11],\n",
    "              'silent': [1],\n",
    "              'subsample': [0.8],\n",
    "              'colsample_bytree': [0.7],\n",
    "              'n_estimators': [5], \n",
    "              'missing':[-999],}\n",
    "\n",
    "grid= GridSearchCV(xgboost, param_grid=parameters)\n",
    "grid_result = grid.fit(x_train, y_train)\n",
    "\n",
    "#resultados\n",
    "print(\"Melhor: %f Usando %s\" % (grid_result.best_score_, grid_result.best_params_))\n",
    "\n"
   ]
  },
  {
   "cell_type": "code",
   "execution_count": null,
   "metadata": {},
   "outputs": [],
   "source": []
  },
  {
   "cell_type": "markdown",
   "metadata": {},
   "source": [
    "# 3.1 - Como utilizar os resultados obtidos em (3) nas bases de validação e teste? e Verificar acurácia final do modelo? Aqui fiz direto sem utilizar a base de validação. "
   ]
  },
  {
   "cell_type": "code",
   "execution_count": null,
   "metadata": {},
   "outputs": [],
   "source": [
    "from sklearn import metrics\n",
    "from sklearn.metrics import accuracy_score\n",
    "from sklearn.metrics import classification_report\n",
    "\n",
    "\n",
    "# Aqui treinei o modelo com os melhores parametros obtidos em (3)\n",
    "import xgboost\n",
    "xgboost = xgboost.XGBClassifier(colsample_bytree = 0.7, learning_rate = 0.05, max_depth = 6, min_child_weight = 11, missing = -999, n_estimators = 5, nthread = 4, objective = 'binary:logistic', seed = 1337, silent = 1, subsample = 0.8)\n",
    "xgboost.fit(x_train, y_train)\n",
    "\n",
    "# Configurando a predição base de teste\n",
    "y_pred1 = xgboost.predict(x_test)\n",
    "\n",
    "# Resultado 1\n",
    "print(metrics.accuracy_score(y_test,y_pred1))\n",
    "\n",
    "# Resultado 2 \n",
    "print (metrics.classification_report(y_test,y_pred1))"
   ]
  },
  {
   "cell_type": "markdown",
   "metadata": {},
   "source": [
    "# 4) Exemplo 1 com Logistic Regression e GridSearch (1)"
   ]
  },
  {
   "cell_type": "code",
   "execution_count": null,
   "metadata": {},
   "outputs": [],
   "source": [
    "from sklearn.linear_model import LogisticRegression\n",
    "from sklearn.model_selection import GridSearchCV\n",
    "\n",
    "dual=[True,False]\n",
    "max_iter=[100,110,120,130,140]\n",
    "param_grid = dict(dual=dual,max_iter=max_iter)\n",
    "\n",
    "lr = LogisticRegression(penalty='l2')\n",
    "grid1 = GridSearchCV(estimator=lr, param_grid=param_grid, n_jobs=-1)\n",
    "\n",
    "grid_result1 = grid1.fit(x_train, y_train)\n",
    "print(\"Melhor: %f Usando %s\" % (grid_result1.best_score_, grid_result1.best_params_))\n",
    "\n"
   ]
  },
  {
   "cell_type": "markdown",
   "metadata": {},
   "source": [
    "# 4.1 - Como utilizar os resultados obtidos em (4) nas bases de validação e teste? e Verificar acurácia final do modelo?"
   ]
  },
  {
   "cell_type": "code",
   "execution_count": null,
   "metadata": {},
   "outputs": [],
   "source": [
    "from sklearn.linear_model import LogisticRegression\n",
    "from sklearn.model_selection import GridSearchCV\n",
    "\n",
    "dual=[False]\n",
    "max_iter=[100]\n",
    "param_grid = dict(dual=dual,max_iter=max_iter)\n",
    "\n",
    "lr = LogisticRegression(penalty='l2')\n",
    "gridx = GridSearchCV(estimator=lr, param_grid=param_grid, n_jobs=-1)\n",
    "\n",
    "grid_resultx = gridx.fit(x_train, y_train)\n",
    "\n",
    "# Configurando a predição base de teste\n",
    "y_predx = xgboost.predict(x_test)\n",
    "\n",
    "# Resultado 1\n",
    "print(metrics.accuracy_score(y_test,y_predx))\n",
    "\n",
    "# Resultado 2 \n",
    "print (metrics.classification_report(y_test,y_predx))\n",
    "\n",
    "\n"
   ]
  },
  {
   "cell_type": "markdown",
   "metadata": {},
   "source": [
    "# 5) Exemplo 2 com Logistic Regression e GridSearch "
   ]
  },
  {
   "cell_type": "code",
   "execution_count": null,
   "metadata": {},
   "outputs": [],
   "source": [
    "from sklearn.linear_model import LogisticRegression\n",
    "from sklearn.model_selection import GridSearchCV\n",
    "\n",
    "dual=[True,False]\n",
    "max_iter=[100,110,120,130,140]\n",
    "C = [1.0,1.5,2.0,2.5]\n",
    "param_grid = dict(dual=dual,max_iter=max_iter,C=C)\n",
    "\n",
    "lr = LogisticRegression(penalty='l2')\n",
    "grid2 = GridSearchCV(estimator=lr, param_grid=param_grid, n_jobs=-1)\n",
    "\n",
    "# Base de treinamento\n",
    "grid_result2 = grid2.fit(x_train, y_train)\n",
    "print(\"Melhor: %f Usando %s\" % (grid_result2.best_score_, grid_result2.best_params_))\n"
   ]
  },
  {
   "cell_type": "markdown",
   "metadata": {},
   "source": [
    "# 5.1 - Como utilizar os resultados obtidos em (5) nas bases de validação e teste? e Verificar acurácia final do modelo?"
   ]
  },
  {
   "cell_type": "code",
   "execution_count": null,
   "metadata": {},
   "outputs": [],
   "source": [
    "from sklearn.linear_model import LogisticRegression\n",
    "from sklearn.model_selection import GridSearchCV\n",
    "\n",
    "ols = LinearRegression()\n",
    "ols_params = {'fit_intercept':[True, False],\n",
    "              'normalize':[True, False]}\n",
    "grid3 = GridSearchCV(ols, param_grid=ols_params, scoring=metricas, verbose=100, refit='neg_mean_squared_error', return_train_score=False)\n",
    "\n",
    "grid_result3 = grid3.fit(x_train, y_train)\n",
    "\n",
    "print(\"Melhor: %f Usando %s\" % (grid_result3.best_score_, grid_result3.best_params_))\n"
   ]
  },
  {
   "cell_type": "code",
   "execution_count": null,
   "metadata": {},
   "outputs": [],
   "source": []
  },
  {
   "cell_type": "code",
   "execution_count": null,
   "metadata": {},
   "outputs": [],
   "source": []
  },
  {
   "cell_type": "code",
   "execution_count": null,
   "metadata": {},
   "outputs": [],
   "source": []
  }
 ],
 "metadata": {
  "kernelspec": {
   "display_name": "Python 3",
   "language": "python",
   "name": "python3"
  },
  "language_info": {
   "codemirror_mode": {
    "name": "ipython",
    "version": 3
   },
   "file_extension": ".py",
   "mimetype": "text/x-python",
   "name": "python",
   "nbconvert_exporter": "python",
   "pygments_lexer": "ipython3",
   "version": "3.6.5"
  }
 },
 "nbformat": 4,
 "nbformat_minor": 2
}
